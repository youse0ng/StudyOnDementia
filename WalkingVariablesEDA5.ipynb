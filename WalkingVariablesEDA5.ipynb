{
 "cells": [
  {
   "cell_type": "markdown",
   "id": "185dc671",
   "metadata": {},
   "source": [
    "# Test Acc 성능을 높이기 위한 방안\n",
    "- Derived Variable 생성해서 다시 학습\n",
    "- Model 변경\n",
    "- 최적화 (Grid Search)"
   ]
  }
 ],
 "metadata": {
  "language_info": {
   "name": "python"
  }
 },
 "nbformat": 4,
 "nbformat_minor": 5
}
