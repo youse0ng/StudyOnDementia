{
 "cells": [
  {
   "cell_type": "code",
   "execution_count": 1,
   "id": "76b7c4b3",
   "metadata": {},
   "outputs": [
    {
     "name": "stderr",
     "output_type": "stream",
     "text": [
      "<>:4: SyntaxWarning: invalid escape sequence '\\D'\n",
      "<>:5: SyntaxWarning: invalid escape sequence '\\D'\n",
      "<>:4: SyntaxWarning: invalid escape sequence '\\D'\n",
      "<>:5: SyntaxWarning: invalid escape sequence '\\D'\n",
      "C:\\Users\\human-02\\AppData\\Local\\Temp\\ipykernel_9620\\2921677444.py:4: SyntaxWarning: invalid escape sequence '\\D'\n",
      "  walk_target = pd.read_csv('LifeLog\\Data\\\\1.Training\\라벨링데이터\\\\1.걸음걸이\\\\training_label.csv').rename(columns={'SAMPLE_EMAIL':\"EMAIL\"})\n",
      "C:\\Users\\human-02\\AppData\\Local\\Temp\\ipykernel_9620\\2921677444.py:5: SyntaxWarning: invalid escape sequence '\\D'\n",
      "  walk_lifelog = pd.read_csv('LifeLog\\Data\\\\1.Training\\원천데이터\\\\1.걸음걸이\\\\train_activity.csv')\n"
     ]
    },
    {
     "data": {
      "text/plain": [
       "['DF.pkl']"
      ]
     },
     "execution_count": 1,
     "metadata": {},
     "output_type": "execute_result"
    }
   ],
   "source": [
    "import pandas as pd\n",
    "import joblib\n",
    "pd.set_option('display.max_columns', None)\n",
    "walk_target = pd.read_csv('LifeLog\\Data\\\\1.Training\\라벨링데이터\\\\1.걸음걸이\\\\training_label.csv').rename(columns={'SAMPLE_EMAIL':\"EMAIL\"})\n",
    "walk_lifelog = pd.read_csv('LifeLog\\Data\\\\1.Training\\원천데이터\\\\1.걸음걸이\\\\train_activity.csv')\n",
    "walk_df = walk_lifelog.merge(walk_target,on='EMAIL')\n",
    "walk_df.rename(columns={\n",
    "    'activity_average_met': '하루간 평균 MET',\n",
    "    'activity_cal_active': '하루간 활동 칼로리',\n",
    "    'activity_cal_total': '하루간 총 사용 칼로리',\n",
    "    'activity_class_5min': '하루간 5분당 활동 로그',\n",
    "    'activity_daily_movement': '매일 움직인 거리',\n",
    "    'activity_day_end': '활동 종료 시간',\n",
    "    'activity_day_start': '활동 시작 시간',\n",
    "    'activity_high': '고강도 활동 시간',\n",
    "    'activity_inactive': '비활동 시간',\n",
    "    'activity_inactivity_alerts': '비활동 알람 횟수',\n",
    "    'active_low': '저강도 활동 시간',\n",
    "    'activity_medium': '중강도 활동 시간',\n",
    "    'activity_met_1min': '하루간 1분 당 MET 로그',\n",
    "    'activity_met_min_high': '하루간 고강도 활동 MET',\n",
    "    'activity_met_min_inactive': '하루간 비활동 MET',\n",
    "    'activity_met_min_low': '하루간 저강도 활동 MET',\n",
    "    'activity_met_min_medium': '하루간 중강도 활동 MET',\n",
    "    'activity_non_wear': '미착용 시간',\n",
    "    'activity_rest': '휴식 시간',\n",
    "    'activity_score': '활동 점수',\n",
    "    'activity_low':'저강도 활동 시간',\n",
    "    'activity_score_meet_daily_targets': '활동 목표달성 점수',\n",
    "    'activity_score_move_every_hour': '매 시간 당 활동유지 점수',\n",
    "    'activity_score_recovery_time': '회복시간 점수',\n",
    "    'activity_score_stay_active': '활동 유지 점수',\n",
    "    'activity_score_training_frequency': '운동 빈도 점수',\n",
    "    'activity_score_training_volume': '운동량 점수',\n",
    "    'activity_steps': '매일 걸음 수',\n",
    "    'activity_total': '활동 총 시간(분)',\n",
    "    'CONVERT(activity_class_5min USING utf8)': '하루간 5분당 활동 로그 (UTF-8)',\n",
    "    'CONVERT(activity_met_1min USING utf8)': '하루간 1분당 MET 로그 (UTF-8)',\n",
    "    'EMAIL': '이메일',\n",
    "    'DIAG_NM': '진단명'\n",
    "}, inplace=True)\n",
    "joblib.dump(walk_df,'DF.pkl')"
   ]
  },
  {
   "cell_type": "code",
   "execution_count": 2,
   "id": "7014857d",
   "metadata": {},
   "outputs": [
    {
     "data": {
      "application/vnd.plotly.v1+json": {
       "config": {
        "plotlyServerURL": "https://plot.ly"
       },
       "data": [
        {
         "coloraxis": "coloraxis",
         "hovertemplate": "x: %{x}<br>y: %{y}<br>color: %{z}<extra></extra>",
         "name": "0",
         "texttemplate": "%{z:.2f}",
         "type": "heatmap",
         "x": [
          "하루간 평균 MET",
          "하루간 활동 칼로리",
          "하루간 총 사용 칼로리",
          "매일 움직인 거리",
          "고강도 활동 시간",
          "비활동 시간",
          "비활동 알람 횟수",
          "저강도 활동 시간",
          "중강도 활동 시간",
          "하루간 고강도 활동 MET",
          "하루간 비활동 MET",
          "하루간 저강도 활동 MET",
          "하루간 중강도 활동 MET",
          "미착용 시간",
          "휴식 시간",
          "활동 점수",
          "활동 목표달성 점수",
          "매 시간 당 활동유지 점수",
          "회복시간 점수",
          "활동 유지 점수",
          "운동 빈도 점수",
          "운동량 점수",
          "매일 걸음 수",
          "활동 총 시간(분)"
         ],
         "xaxis": "x",
         "y": [
          "하루간 평균 MET",
          "하루간 활동 칼로리",
          "하루간 총 사용 칼로리",
          "매일 움직인 거리",
          "고강도 활동 시간",
          "비활동 시간",
          "비활동 알람 횟수",
          "저강도 활동 시간",
          "중강도 활동 시간",
          "하루간 고강도 활동 MET",
          "하루간 비활동 MET",
          "하루간 저강도 활동 MET",
          "하루간 중강도 활동 MET",
          "미착용 시간",
          "휴식 시간",
          "활동 점수",
          "활동 목표달성 점수",
          "매 시간 당 활동유지 점수",
          "회복시간 점수",
          "활동 유지 점수",
          "운동 빈도 점수",
          "운동량 점수",
          "매일 걸음 수",
          "활동 총 시간(분)"
         ],
         "yaxis": "y",
         "z": {
          "bdata": "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",
          "dtype": "f8",
          "shape": "24, 24"
         }
        }
       ],
       "layout": {
        "coloraxis": {
         "cmax": 1,
         "cmin": -1,
         "colorbar": {
          "len": 300,
          "lenmode": "pixels",
          "thickness": 15,
          "ticks": "outside",
          "tickvals": [
           -1,
           -0.5,
           0,
           0.5,
           1
          ],
          "title": {
           "side": "right",
           "text": "상관계수"
          }
         },
         "colorscale": [
          [
           0,
           "rgb(5,48,97)"
          ],
          [
           0.1,
           "rgb(33,102,172)"
          ],
          [
           0.2,
           "rgb(67,147,195)"
          ],
          [
           0.3,
           "rgb(146,197,222)"
          ],
          [
           0.4,
           "rgb(209,229,240)"
          ],
          [
           0.5,
           "rgb(247,247,247)"
          ],
          [
           0.6,
           "rgb(253,219,199)"
          ],
          [
           0.7,
           "rgb(244,165,130)"
          ],
          [
           0.8,
           "rgb(214,96,77)"
          ],
          [
           0.9,
           "rgb(178,24,43)"
          ],
          [
           1,
           "rgb(103,0,31)"
          ]
         ]
        },
        "font": {
         "family": "Arial",
         "size": 13
        },
        "height": 800,
        "margin": {
         "b": 100,
         "l": 100,
         "r": 50,
         "t": 100
        },
        "paper_bgcolor": "white",
        "plot_bgcolor": "white",
        "template": {
         "data": {
          "bar": [
           {
            "error_x": {
             "color": "#2a3f5f"
            },
            "error_y": {
             "color": "#2a3f5f"
            },
            "marker": {
             "line": {
              "color": "#E5ECF6",
              "width": 0.5
             },
             "pattern": {
              "fillmode": "overlay",
              "size": 10,
              "solidity": 0.2
             }
            },
            "type": "bar"
           }
          ],
          "barpolar": [
           {
            "marker": {
             "line": {
              "color": "#E5ECF6",
              "width": 0.5
             },
             "pattern": {
              "fillmode": "overlay",
              "size": 10,
              "solidity": 0.2
             }
            },
            "type": "barpolar"
           }
          ],
          "carpet": [
           {
            "aaxis": {
             "endlinecolor": "#2a3f5f",
             "gridcolor": "white",
             "linecolor": "white",
             "minorgridcolor": "white",
             "startlinecolor": "#2a3f5f"
            },
            "baxis": {
             "endlinecolor": "#2a3f5f",
             "gridcolor": "white",
             "linecolor": "white",
             "minorgridcolor": "white",
             "startlinecolor": "#2a3f5f"
            },
            "type": "carpet"
           }
          ],
          "choropleth": [
           {
            "colorbar": {
             "outlinewidth": 0,
             "ticks": ""
            },
            "type": "choropleth"
           }
          ],
          "contour": [
           {
            "colorbar": {
             "outlinewidth": 0,
             "ticks": ""
            },
            "colorscale": [
             [
              0,
              "#0d0887"
             ],
             [
              0.1111111111111111,
              "#46039f"
             ],
             [
              0.2222222222222222,
              "#7201a8"
             ],
             [
              0.3333333333333333,
              "#9c179e"
             ],
             [
              0.4444444444444444,
              "#bd3786"
             ],
             [
              0.5555555555555556,
              "#d8576b"
             ],
             [
              0.6666666666666666,
              "#ed7953"
             ],
             [
              0.7777777777777778,
              "#fb9f3a"
             ],
             [
              0.8888888888888888,
              "#fdca26"
             ],
             [
              1,
              "#f0f921"
             ]
            ],
            "type": "contour"
           }
          ],
          "contourcarpet": [
           {
            "colorbar": {
             "outlinewidth": 0,
             "ticks": ""
            },
            "type": "contourcarpet"
           }
          ],
          "heatmap": [
           {
            "colorbar": {
             "outlinewidth": 0,
             "ticks": ""
            },
            "colorscale": [
             [
              0,
              "#0d0887"
             ],
             [
              0.1111111111111111,
              "#46039f"
             ],
             [
              0.2222222222222222,
              "#7201a8"
             ],
             [
              0.3333333333333333,
              "#9c179e"
             ],
             [
              0.4444444444444444,
              "#bd3786"
             ],
             [
              0.5555555555555556,
              "#d8576b"
             ],
             [
              0.6666666666666666,
              "#ed7953"
             ],
             [
              0.7777777777777778,
              "#fb9f3a"
             ],
             [
              0.8888888888888888,
              "#fdca26"
             ],
             [
              1,
              "#f0f921"
             ]
            ],
            "type": "heatmap"
           }
          ],
          "histogram": [
           {
            "marker": {
             "pattern": {
              "fillmode": "overlay",
              "size": 10,
              "solidity": 0.2
             }
            },
            "type": "histogram"
           }
          ],
          "histogram2d": [
           {
            "colorbar": {
             "outlinewidth": 0,
             "ticks": ""
            },
            "colorscale": [
             [
              0,
              "#0d0887"
             ],
             [
              0.1111111111111111,
              "#46039f"
             ],
             [
              0.2222222222222222,
              "#7201a8"
             ],
             [
              0.3333333333333333,
              "#9c179e"
             ],
             [
              0.4444444444444444,
              "#bd3786"
             ],
             [
              0.5555555555555556,
              "#d8576b"
             ],
             [
              0.6666666666666666,
              "#ed7953"
             ],
             [
              0.7777777777777778,
              "#fb9f3a"
             ],
             [
              0.8888888888888888,
              "#fdca26"
             ],
             [
              1,
              "#f0f921"
             ]
            ],
            "type": "histogram2d"
           }
          ],
          "histogram2dcontour": [
           {
            "colorbar": {
             "outlinewidth": 0,
             "ticks": ""
            },
            "colorscale": [
             [
              0,
              "#0d0887"
             ],
             [
              0.1111111111111111,
              "#46039f"
             ],
             [
              0.2222222222222222,
              "#7201a8"
             ],
             [
              0.3333333333333333,
              "#9c179e"
             ],
             [
              0.4444444444444444,
              "#bd3786"
             ],
             [
              0.5555555555555556,
              "#d8576b"
             ],
             [
              0.6666666666666666,
              "#ed7953"
             ],
             [
              0.7777777777777778,
              "#fb9f3a"
             ],
             [
              0.8888888888888888,
              "#fdca26"
             ],
             [
              1,
              "#f0f921"
             ]
            ],
            "type": "histogram2dcontour"
           }
          ],
          "mesh3d": [
           {
            "colorbar": {
             "outlinewidth": 0,
             "ticks": ""
            },
            "type": "mesh3d"
           }
          ],
          "parcoords": [
           {
            "line": {
             "colorbar": {
              "outlinewidth": 0,
              "ticks": ""
             }
            },
            "type": "parcoords"
           }
          ],
          "pie": [
           {
            "automargin": true,
            "type": "pie"
           }
          ],
          "scatter": [
           {
            "fillpattern": {
             "fillmode": "overlay",
             "size": 10,
             "solidity": 0.2
            },
            "type": "scatter"
           }
          ],
          "scatter3d": [
           {
            "line": {
             "colorbar": {
              "outlinewidth": 0,
              "ticks": ""
             }
            },
            "marker": {
             "colorbar": {
              "outlinewidth": 0,
              "ticks": ""
             }
            },
            "type": "scatter3d"
           }
          ],
          "scattercarpet": [
           {
            "marker": {
             "colorbar": {
              "outlinewidth": 0,
              "ticks": ""
             }
            },
            "type": "scattercarpet"
           }
          ],
          "scattergeo": [
           {
            "marker": {
             "colorbar": {
              "outlinewidth": 0,
              "ticks": ""
             }
            },
            "type": "scattergeo"
           }
          ],
          "scattergl": [
           {
            "marker": {
             "colorbar": {
              "outlinewidth": 0,
              "ticks": ""
             }
            },
            "type": "scattergl"
           }
          ],
          "scattermap": [
           {
            "marker": {
             "colorbar": {
              "outlinewidth": 0,
              "ticks": ""
             }
            },
            "type": "scattermap"
           }
          ],
          "scattermapbox": [
           {
            "marker": {
             "colorbar": {
              "outlinewidth": 0,
              "ticks": ""
             }
            },
            "type": "scattermapbox"
           }
          ],
          "scatterpolar": [
           {
            "marker": {
             "colorbar": {
              "outlinewidth": 0,
              "ticks": ""
             }
            },
            "type": "scatterpolar"
           }
          ],
          "scatterpolargl": [
           {
            "marker": {
             "colorbar": {
              "outlinewidth": 0,
              "ticks": ""
             }
            },
            "type": "scatterpolargl"
           }
          ],
          "scatterternary": [
           {
            "marker": {
             "colorbar": {
              "outlinewidth": 0,
              "ticks": ""
             }
            },
            "type": "scatterternary"
           }
          ],
          "surface": [
           {
            "colorbar": {
             "outlinewidth": 0,
             "ticks": ""
            },
            "colorscale": [
             [
              0,
              "#0d0887"
             ],
             [
              0.1111111111111111,
              "#46039f"
             ],
             [
              0.2222222222222222,
              "#7201a8"
             ],
             [
              0.3333333333333333,
              "#9c179e"
             ],
             [
              0.4444444444444444,
              "#bd3786"
             ],
             [
              0.5555555555555556,
              "#d8576b"
             ],
             [
              0.6666666666666666,
              "#ed7953"
             ],
             [
              0.7777777777777778,
              "#fb9f3a"
             ],
             [
              0.8888888888888888,
              "#fdca26"
             ],
             [
              1,
              "#f0f921"
             ]
            ],
            "type": "surface"
           }
          ],
          "table": [
           {
            "cells": {
             "fill": {
              "color": "#EBF0F8"
             },
             "line": {
              "color": "white"
             }
            },
            "header": {
             "fill": {
              "color": "#C8D4E3"
             },
             "line": {
              "color": "white"
             }
            },
            "type": "table"
           }
          ]
         },
         "layout": {
          "annotationdefaults": {
           "arrowcolor": "#2a3f5f",
           "arrowhead": 0,
           "arrowwidth": 1
          },
          "autotypenumbers": "strict",
          "coloraxis": {
           "colorbar": {
            "outlinewidth": 0,
            "ticks": ""
           }
          },
          "colorscale": {
           "diverging": [
            [
             0,
             "#8e0152"
            ],
            [
             0.1,
             "#c51b7d"
            ],
            [
             0.2,
             "#de77ae"
            ],
            [
             0.3,
             "#f1b6da"
            ],
            [
             0.4,
             "#fde0ef"
            ],
            [
             0.5,
             "#f7f7f7"
            ],
            [
             0.6,
             "#e6f5d0"
            ],
            [
             0.7,
             "#b8e186"
            ],
            [
             0.8,
             "#7fbc41"
            ],
            [
             0.9,
             "#4d9221"
            ],
            [
             1,
             "#276419"
            ]
           ],
           "sequential": [
            [
             0,
             "#0d0887"
            ],
            [
             0.1111111111111111,
             "#46039f"
            ],
            [
             0.2222222222222222,
             "#7201a8"
            ],
            [
             0.3333333333333333,
             "#9c179e"
            ],
            [
             0.4444444444444444,
             "#bd3786"
            ],
            [
             0.5555555555555556,
             "#d8576b"
            ],
            [
             0.6666666666666666,
             "#ed7953"
            ],
            [
             0.7777777777777778,
             "#fb9f3a"
            ],
            [
             0.8888888888888888,
             "#fdca26"
            ],
            [
             1,
             "#f0f921"
            ]
           ],
           "sequentialminus": [
            [
             0,
             "#0d0887"
            ],
            [
             0.1111111111111111,
             "#46039f"
            ],
            [
             0.2222222222222222,
             "#7201a8"
            ],
            [
             0.3333333333333333,
             "#9c179e"
            ],
            [
             0.4444444444444444,
             "#bd3786"
            ],
            [
             0.5555555555555556,
             "#d8576b"
            ],
            [
             0.6666666666666666,
             "#ed7953"
            ],
            [
             0.7777777777777778,
             "#fb9f3a"
            ],
            [
             0.8888888888888888,
             "#fdca26"
            ],
            [
             1,
             "#f0f921"
            ]
           ]
          },
          "colorway": [
           "#636efa",
           "#EF553B",
           "#00cc96",
           "#ab63fa",
           "#FFA15A",
           "#19d3f3",
           "#FF6692",
           "#B6E880",
           "#FF97FF",
           "#FECB52"
          ],
          "font": {
           "color": "#2a3f5f"
          },
          "geo": {
           "bgcolor": "white",
           "lakecolor": "white",
           "landcolor": "#E5ECF6",
           "showlakes": true,
           "showland": true,
           "subunitcolor": "white"
          },
          "hoverlabel": {
           "align": "left"
          },
          "hovermode": "closest",
          "mapbox": {
           "style": "light"
          },
          "paper_bgcolor": "white",
          "plot_bgcolor": "#E5ECF6",
          "polar": {
           "angularaxis": {
            "gridcolor": "white",
            "linecolor": "white",
            "ticks": ""
           },
           "bgcolor": "#E5ECF6",
           "radialaxis": {
            "gridcolor": "white",
            "linecolor": "white",
            "ticks": ""
           }
          },
          "scene": {
           "xaxis": {
            "backgroundcolor": "#E5ECF6",
            "gridcolor": "white",
            "gridwidth": 2,
            "linecolor": "white",
            "showbackground": true,
            "ticks": "",
            "zerolinecolor": "white"
           },
           "yaxis": {
            "backgroundcolor": "#E5ECF6",
            "gridcolor": "white",
            "gridwidth": 2,
            "linecolor": "white",
            "showbackground": true,
            "ticks": "",
            "zerolinecolor": "white"
           },
           "zaxis": {
            "backgroundcolor": "#E5ECF6",
            "gridcolor": "white",
            "gridwidth": 2,
            "linecolor": "white",
            "showbackground": true,
            "ticks": "",
            "zerolinecolor": "white"
           }
          },
          "shapedefaults": {
           "line": {
            "color": "#2a3f5f"
           }
          },
          "ternary": {
           "aaxis": {
            "gridcolor": "white",
            "linecolor": "white",
            "ticks": ""
           },
           "baxis": {
            "gridcolor": "white",
            "linecolor": "white",
            "ticks": ""
           },
           "bgcolor": "#E5ECF6",
           "caxis": {
            "gridcolor": "white",
            "linecolor": "white",
            "ticks": ""
           }
          },
          "title": {
           "x": 0.05
          },
          "xaxis": {
           "automargin": true,
           "gridcolor": "white",
           "linecolor": "white",
           "ticks": "",
           "title": {
            "standoff": 15
           },
           "zerolinecolor": "white",
           "zerolinewidth": 2
          },
          "yaxis": {
           "automargin": true,
           "gridcolor": "white",
           "linecolor": "white",
           "ticks": "",
           "title": {
            "standoff": 15
           },
           "zerolinecolor": "white",
           "zerolinewidth": 2
          }
         }
        },
        "title": {
         "font": {
          "color": "black",
          "family": "Arial Black",
          "size": 24
         }
        },
        "width": 900,
        "xaxis": {
         "anchor": "y",
         "domain": [
          0,
          1
         ],
         "showgrid": false,
         "side": "top",
         "tickangle": 75,
         "tickfont": {
          "size": 12
         }
        },
        "yaxis": {
         "anchor": "x",
         "autorange": "reversed",
         "domain": [
          0,
          1
         ],
         "showgrid": false,
         "tickfont": {
          "size": 12
         }
        }
       }
      }
     },
     "metadata": {},
     "output_type": "display_data"
    }
   ],
   "source": [
    "import pandas as pd\n",
    "import plotly.express as px\n",
    "\n",
    "# 숫자형 컬럼의 상관계수 계산\n",
    "correlation_matrix = walk_df.corr(numeric_only=True)\n",
    "\n",
    "# 상관관계 히트맵 그리기\n",
    "fig = px.imshow(\n",
    "    correlation_matrix,\n",
    "    text_auto='.2f',  # 소수점 둘째 자리\n",
    "    color_continuous_scale='RdBu_r',\n",
    "    zmin=-1, zmax=1,\n",
    "    aspect=\"auto\",  # 셀 비율 자동 조절\n",
    ")\n",
    "fig.update_layout(\n",
    "    title_font=dict(size=24, family='Arial Black', color='black'),\n",
    "    font=dict(size=13, family='Arial'),\n",
    "    xaxis=dict(\n",
    "        tickangle=75,  # 👈 X축 레이블 세로로\n",
    "        tickfont=dict(size=12),\n",
    "        side='top'\n",
    "    ),\n",
    "    yaxis=dict(tickfont=dict(size=12)),\n",
    "    width=900,\n",
    "    height=800,\n",
    "    margin=dict(l=100, r=50, t=100, b=100),\n",
    "    plot_bgcolor='white',\n",
    "    paper_bgcolor='white',\n",
    "    coloraxis_colorbar=dict(\n",
    "        title=\"상관계수\",\n",
    "        ticks=\"outside\",\n",
    "        tickvals=[-1, -0.5, 0, 0.5, 1],\n",
    "        lenmode=\"pixels\",\n",
    "        len=300,\n",
    "        thickness=15,\n",
    "        title_side='right'\n",
    "    )\n",
    ")\n",
    "\n",
    "# 눈금선 제거\n",
    "fig.update_xaxes(showgrid=False)\n",
    "fig.update_yaxes(showgrid=False)\n",
    "\n",
    "fig.show()\n"
   ]
  },
  {
   "cell_type": "code",
   "execution_count": 8,
   "id": "6bb883cf",
   "metadata": {},
   "outputs": [
    {
     "data": {
      "text/plain": [
       "array(['nia+279@rowan.kr', np.float64(1.28125), np.int64(196),\n",
       "       np.int64(2251), '...', np.int64(3353), '2020-10-20T03:59:59+09:00',\n",
       "       '2020-10-19T04:00:00+09:00', np.int64(0), np.int64(714),\n",
       "       np.int64(0), np.int64(201), np.int64(6), '...', np.int64(0),\n",
       "       np.int64(8), np.int64(133), np.int64(20), np.int64(0),\n",
       "       np.int64(519), np.int64(87), np.int64(78), np.int64(100),\n",
       "       np.int64(100), np.int64(54), np.int64(100), np.int64(97),\n",
       "       np.int64(4212), np.int64(207),\n",
       "       '1/1/2/2/2/2/1/1/1/1/1/1/1/2/2/2/2/2/2/3/3/2/2/3/3/3/2/2/2/2/2/3/3/3/2/2/2/2/2/2/3/4/3/2/2/2/2/2/1/1/2/2/2/2/2/2/3/4/2/2/2/2/2/3/4/4/2/2/3/2/2/2/2/2/2/2/2/1/1/2/2/2/3/4/4/3/3/2/3/4/3/3/2/2/2/2/3/2/3/2/2/1/1/1/2/2/2/2/2/2/2/2/2/3/2/2/2/2/2/2/2/2/2/2/2/1/1/2/2/2/2/3/2/2/3/2/2/2/2/2/2/2/2/2/2/2/2/2/2/2/2/3/3/3/2/2/2/2/2/2/3/4/3/3/3/3/3/2/2/2/3/3/3/3/2/2/2/2/2/2/2/2/2/2/1/2/1/1/1/2/2/2/2/2/2/2/2/2/2/1/1/1/2/2/2/2/2/3/2/3/2/2/1/2/1/1/1/1/1/1/1/1/1/1/1/1/1/1/1/1/1/1/1/2/1/1/1/1/1/1/1/1/1/1/1/1/1/1/1/1/1/1/1/1/1/2/1/1/1/2/1/1/1/2/1/1/1/1/1/1/1/1/1/1/1/1/1/1/1/1/1/1/2/1/1/1/1/1/',\n",
       "       '1.2/0.9/1/0.9/0.9/0.9/0.9/0.9/0.9/0.9/0.9/0.9/0.9/1.2/0.9/1.2/1.2/1.2/1.2/1.2/1.2/1.2/1.2/1.1/1.2/1.1/1.2/1.3/1.2/1.2/1.2/1.1/0.9/0.9/0.9/1/1/0.9/0.9/0.9/0.9/0.9/0.9/0.9/0.9/0.9/1.2/0.9/0.9/0.9/1/0.9/0.9/0.9/0.9/1/0.9/0.9/0.9/0.9/0.9/0.9/0.9/0.9/0.9/0.9/0.9/0.9/1.3/1.3/1.4/1.3/1.4/1.2/1.4/1.4/1.2/1.3/1.3/1.2/1.2/1.2/1.1/1.2/1.3/1.3/1.2/1.2/1.3/1.2/1.2/1.1/1.5/1.3/1.4/1.4/1.3/1.3/1.2/1.6/2/1.9/3/3.2/2.6/3.1/1.6/1.6/1.4/1.4/1.6/1.6/1.5/1.2/1.7/1.9/1.3/1.8/1.3/1.4/2.2/1.4/2.1/1.4/1.8/2.2/1.9/2.2/1.9/1.9/1.7/1.4/1.2/1.3/1.2/1.2/1.2/1.3/1.3/1.3/1.6/1.3/1.3/1.2/1.2/1.3/1.3/1.3/1.2/1.3/1.4/1.4/1.7/1.3/1.2/1.4/1.5/2/2.1/2/1.7/1.7/1.9/1.7/2.2/2.4/1.9/2.2/1.8/2.1/1.3/1.5/1.1/1.2/1.2/1.9/1.6/1.3/1.4/1.3/1.2/1.2/1.2/1.2/1.2/1.1/0.9/0.9/1.2/0.9/1/1.2/1.4/1/1/1.2/1.1/0.9/1/2.1/2/1.3/1.2/1.3/1.7/4.8/5.1/1.7/2.6/2/1.6/1.8/1.7/1.7/1.9/1.4/1.3/1.2/1.2/1.4/1.2/1.2/1.3/1.7/1.2/1.4/1.3/1.3/1.4/1.7/1.2/1.2/1.3/1.3/1.7/1.2/1.2/1.2/1.2/1.2/1.2/1.1/0.9/1.1/0.9/1/0.9/0.9/1/0.9/1.1/1.2/1.2/0.9/1/0.9/0.9/1.3/1.8/1/1/0.9/1/1.2/1.3/1.2/1.2/1.5/1.2/1.6/1.5/1.2/1.4/1.2/1.2/1.5/2.2/1.3/1.5/1.7/1.5/1.7/1.4/1.8/1.6/1.3/4/4/1.9/3.2/2.1/1.3/1.3/1.4/1.2/1.2/1.2/1.2/1.4/1.2/1.2/1.2/1.2/1.2/1.2/0.9/1.2/1.7/0.9/1/1/1.2/1/1.1/1/1/0.9/2.2/2.4/1.7/2.5/3.9/4.1/2.9/3.5/3/4.2/3.2/1.3/1.2/1.6/1.2/1.1/1.2/1.2/1.2/1.3/1.2/1.3/1.3/2/1.9/1.4/1.2/1.3/1.4/1.4/1.3/1.3/1.2/1.4/1.4/1.5/1.7/1.3/1.3/1.2/1.4/1.2/1.2/1.2/1.2/1.3/1.4/1.3/1.3/1.4/1.4/1.2/1.3/1.6/1.2/1.2/1.3/1.3/1.2/1.2/1.1/1.3/1.2/1.3/1.2/1.2/1.2/1.2/1.2/1.1/1/1/0.9/1/1/0.9/1.1/0.9/0.9/0.9/0.9/1/1.2/1.3/0.9/1/0.9/2.3/1.7/1.3/1.2/1.4/1.5/1.3/1.2/1.6/3.1/3.5/3.8/3.6/2.8/3.9/3.8/3.7/1.5/2.3/3/3.7/2.9/3.1/1.9/2.2/3/1.7/1.5/1.5/1.9/4.1/1.6/1.6/1.5/1.5/1.8/1.6/1.4/1.9/2.6/3/1.9/4.4/3.2/3/1.7/1.7/2.2/1.9/1.5/1.2/1.5/1.6/1.8/1.9/1.9/1.3/1.6/1.3/1.3/1.9/1.5/1.6/1.3/1.2/1.3/1.2/1.9/1.3/1.3/1.2/1.3/1.4/1.3/1.5/1.3/2/1.5/1.3/3/1.5/1.7/1.4/1.5/1.3/1.5/2.5/1.8/1.5/1.2/1.8/1.9/1.6/1.4/1.2/1.2/1.2/1.3/1.2/1.3/1.1/1.2/1.2/1.1/0.9/0.9/0.9/1.3/1.1/0.9/0.9/1.2/0.9/0.9/0.9/0.9/0.9/0.9/1.2/0.9/0.9/1.2/1.7/1.6/2/1.6/1.3/1.8/1.7/1.5/1.4/1.3/1.3/1.8/1.3/1.1/1.3/1.2/1.3/1.4/1.3/1.3/1.5/1.2/1.3/1.5/1.4/1.2/1.6/1.4/1.3/1.3/1.2/1.5/1.4/1.2/1.2/1.2/1.3/1.2/1.2/1.2/1.2/1.4/1.8/1.9/1.4/1.2/1.2/1.2/1.1/1.3/1.5/1.3/1.2/1.3/1.3/1.3/1.3/1.4/1.2/1.2/1.2/1.2/1.5/1.2/1.2/1.2/1.2/1.3/2/1.2/1.2/1.3/1.3/1.3/1.3/1.7/1.4/1.4/1.2/1.3/1.2/1.4/2.3/1.2/1.3/1.2/1.4/1.2/1.2/1.4/1.3/1.2/1.5/1.2/1.2/1.2/1.2/1.2/1.2/1.1/0.9/0.9/0.9/0.9/0.9/0.9/0.9/0.9/0.9/0.9/0.9/0.9/0.9/0.9/0.9/1.3/1.3/1.2/1.2/1.2/1.2/1.4/1.4/1.2/1.3/1.2/1.2/1.2/1.4/1.2/1.2/2.1/1.9/1.5/1.7/1.4/1.3/1.1/1.3/1.2/1.2/1.2/1.2/1.5/2.2/1.8/1.9/1.4/1.2/1.3/1.3/1.5/1.3/1.4/1.4/1.3/1.2/1.3/1.3/1.4/1.5/1.4/1.4/1.4/1.4/1.2/1.2/1.3/1.5/1.4/1.3/1.3/1.8/1.6/2/1.6/1.3/1.3/1.4/1.4/1.2/1.4/1.3/1.2/1.3/1.2/1.2/1.2/1.2/1.6/1.3/1.2/1.2/1.2/1.1/1.2/1.2/1.2/1.3/1.1/1.2/1.2/1.2/1.2/1.3/1.3/1.4/1.4/1.3/1.4/1.6/1.2/1.3/1.2/1.2/1.2/1.3/1.2/1.4/1.4/1.4/1.2/1.3/1.3/1.3/1.3/1.2/1.2/1.2/1.2/1.2/1.4/1.9/2.5/1.8/1.7/2.9/3.9/2.2/1.9/1.9/1.5/1.7/1.2/1.2/1.7/1.3/1.3/1.5/1.4/1.2/1.2/1.3/1.3/1.2/1.2/1.2/1.2/1.2/1.2/1.3/1.3/1.2/1.2/1.2/1.2/1.4/1.2/1.4/1.3/1.2/1.2/1.3/1.5/1.9/1.9/1.8/2.6/1.7/2.1/1.8/3.2/1.8/3.4/1.9/1.9/2.5/1.9/1.9/1.9/1.9/1.9/1.9/1.9/1.9/1.5/1.9/1.8/1.6/2.2/2.4/2.9/2.3/1.9/1.9/1.6/1.8/1.8/1.7/1.3/1.3/1.3/1.4/1.4/1.4/1.5/1.3/1.4/1.2/1.3/1.2/1.7/1.3/1.4/1.2/1.5/1.8/1.9/1.3/1.3/1.6/1.9/2.1/5.3/4.7/1.6/1.2/1.6/1.8/1.8/2.6/3/1.5/1.9/1.3/1.2/1.4/1.6/1.4/1.2/1.3/1.2/1.3/1.2/1.3/1.3/1.3/1.3/1.2/1.2/1.2/1.2/1.2/1.2/1.2/1.2/1.2/1.2/1.2/1.4/1.4/1.2/1.2/1.2/1.2/1.2/1.1/1.3/1.2/1.2/1.2/1.2/1.2/1.2/1.6/1.3/1.2/1.4/1.4/1.2/1.2/1.2/1.3/1.2/1.2/1.2/1.2/0.9/1/0.9/1/1/0.9/1/1.3/1.2/0.9/1.2/1/0.9/0.9/0.9/0.9/0.9/0.9/0.9/0.9/0.9/0.9/0.9/0.9/1.6/1.4/1.7/1.4/1.2/1.9/1.2/1.3/1.2/1.2/1.2/1.6/1.7/1.6/1.3/1.2/1.2/1.2/1.2/1.2/1.2/1.3/1.4/1.6/1.3/1.3/1.2/1.2/1.3/1.5/1.2/1.2/1.3/1.2/1.3/1.3/1.2/1.2/1.2/1.2/1.2/1.3/1.2/1.2/1.2/1.2/1.2/1.2/1.2/0.9/0.9/0.9/0.9/0.9/0.9/0.9/0.9/0.9/0.9/0.9/0.9/0.9/0.9/0.9/0.9/0.9/1.1/1/1/0.9/2.8/1.3/1.3/1.2/1.2/1.2/1.3/1.2/1.2/1.3/1.2/1.2/1.1/0.9/1.2/1.7/1.7/1.3/1.2/1.3/2.7/1.7/1.9/1.8/1.6/1.7/1.3/1.2/1.8/1.8/1.7/1.5/1.2/1.2/1.2/1.2/1.2/1.3/1.3/1.2/1.3/1.2/1.2/1.2/1.2/0.9/0.9/0.9/1.1/1/1.2/1.2/0.9/1.1/1/1/1/0.9/0.9/0.9/0.9/0.9/0.9/0.9/1.2/0.9/0.9/0.9/0.9/0.9/0.9/0.9/0.9/0.9/0.9/0.9/0.9/0.9/0.9/0.9/0.9/0.9/0.9/0.9/0.9/0.9/0.9/0.9/0.9/0.9/0.9/0.9/0.9/0.9/0.9/0.9/0.9/0.9/0.9/0.9/0.9/0.9/0.9/0.9/0.9/0.9/0.9/0.9/0.9/0.9/0.9/0.9/0.9/0.9/0.9/0.9/0.9/0.9/0.9/0.9/0.9/0.9/0.9/0.9/0.9/0.9/0.9/0.9/0.9/0.9/0.9/0.9/0.9/0.9/0.9/0.9/0.9/0.9/0.9/0.9/0.9/0.9/0.9/0.9/0.9/0.9/0.9/0.9/0.9/1.3/1.2/1/1/1.2/1/0.9/0.9/0.9/0.9/0.9/0.9/0.9/0.9/0.9/0.9/0.9/0.9/0.9/0.9/0.9/0.9/0.9/0.9/0.9/0.9/0.9/0.9/0.9/0.9/0.9/0.9/0.9/0.9/0.9/0.9/0.9/1.1/0.9/0.9/0.9/0.9/0.9/0.9/0.9/0.9/0.9/0.9/0.9/0.9/0.9/0.9/1.4/0.9/0.9/1/1/1.1/1/0.9/0.9/0.9/0.9/0.9/0.9/0.9/0.9/0.9/0.9/0.9/0.9/0.9/0.9/0.9/0.9/0.9/0.9/0.9/0.9/0.9/0.9/0.9/0.9/0.9/0.9/0.9/0.9/0.9/0.9/0.9/0.9/0.9/0.9/0.9/0.9/0.9/0.9/0.9/0.9/0.9/0.9/0.9/0.9/0.9/0.9/0.9/0.9/0.9/0.9/0.9/0.9/1.3/1/1.3/1/1/0.9/0.9/0.9/1/0.9/0.9/0.9/0.9/0.9/1.2/1.3/0.9/0.9/0.9/0.9/1/1.4/0.9/1.1/0.9/0.9/0.9/0.9/0.9/0.9/0.9/0.9/0.9/0.9/0.9/0.9/1.1/0.9/0.9/1/1.3/1.3/1.2/1.2/1.2/0.9/0.9/0.9/0.9/0.9/0.9/0.9/0.9/0.9/0.9/0.9/0.9/0.9/0.9/0.9/0.9/0.9/0.9/0.9/0.9/0.9/0.9/0.9/0.9/0.9/0.9/0.9/0.9/0.9/0.9/0.9/0.9/0.9/0.9/0.9/0.9/0.9/0.9/0.9/0.9/0.9/0.9/0.9/0.9/0.9/0.9/0.9/0.9/0.9/0.9/0.9/0.9/0.9/0.9/0.9/0.9/0.9/1.2/0.9/0.9/0.9/0.9/0.9/1.1/0.9/0.9/0.9/0.9/0.9/0.9/0.9/0.9/0.9/0.9/0.9/0.9/0.9/0.9/0.9/0.9/0.9/0.9/0.9/0.9/0.9/0.9/0.9/0.9/0.9/0.9/0.9/0.9/1.3/0.9/0.9/1.4/1/1/0.9/0.9/0.9/0.9/0.9/0.9/0.9/0.9/0.9/0.9/0.9/0.9/0.9/0.9/0.9/0.9/0.9/0.9/0.9/0.9/',\n",
       "       'MCI'], dtype=object)"
      ]
     },
     "execution_count": 8,
     "metadata": {},
     "output_type": "execute_result"
    }
   ],
   "source": [
    "walk_df.iloc[0].values"
   ]
  },
  {
   "cell_type": "code",
   "execution_count": null,
   "id": "ac51c62e",
   "metadata": {},
   "outputs": [],
   "source": []
  }
 ],
 "metadata": {
  "kernelspec": {
   "display_name": "FirstProject",
   "language": "python",
   "name": "python3"
  },
  "language_info": {
   "codemirror_mode": {
    "name": "ipython",
    "version": 3
   },
   "file_extension": ".py",
   "mimetype": "text/x-python",
   "name": "python",
   "nbconvert_exporter": "python",
   "pygments_lexer": "ipython3",
   "version": "3.13.5"
  }
 },
 "nbformat": 4,
 "nbformat_minor": 5
}
